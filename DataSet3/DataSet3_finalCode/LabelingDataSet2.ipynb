{
  "cells": [
    {
      "cell_type": "code",
      "execution_count": null,
      "metadata": {
        "colab": {
          "base_uri": "https://localhost:8080/"
        },
        "id": "NJrL_yUK7SK8",
        "outputId": "9ac57ab3-f838-4122-f0e8-b2f8886cae77"
      },
      "outputs": [
        {
          "name": "stdout",
          "output_type": "stream",
          "text": [
            "Mounted at /content/drive\n"
          ]
        }
      ],
      "source": [
        "import os\n",
        "import shutil\n",
        "import zipfile\n",
        "import xml.etree.ElementTree as ET\n",
        "\n",
        "from google.colab import drive\n",
        "drive.mount('/content/drive')"
      ]
    },
    {
      "cell_type": "code",
      "execution_count": null,
      "metadata": {
        "id": "V2gZfSF17KZC"
      },
      "outputs": [],
      "source": [
        "import os\n",
        "import shutil\n",
        "import zipfile\n",
        "import xml.etree.ElementTree as ET\n",
        "\n",
        "zip_file_path = \"/content/drive/MyDrive/Self-Driving Cars.v6-version-4-prescan-416x416.voc/test/Self-Driving Cars.v6-version-4-prescan-416x416.voc.zip\"\n",
        "\n",
        "extracted_dir = \"/content/dataset\"\n",
        "\n",
        "with zipfile.ZipFile(zip_file_path, 'r') as zip_ref:\n",
        "    zip_ref.extractall(extracted_dir)\n",
        "\n",
        "dataset_root = extracted_dir\n",
        "\n",
        "sorted_dataset_dir = \"/content/sorted_dataset\"\n",
        "\n",
        "test_dataset_dir = os.path.join(sorted_dataset_dir, \"test\")\n",
        "train_dataset_dir = os.path.join(sorted_dataset_dir, \"train\")\n",
        "valid_dataset_dir = os.path.join(sorted_dataset_dir, \"valid\")\n",
        "\n",
        "os.makedirs(test_dataset_dir, exist_ok=True)\n",
        "os.makedirs(train_dataset_dir, exist_ok=True)\n",
        "os.makedirs(valid_dataset_dir, exist_ok=True)\n",
        "\n",
        "def organize_dataset(root_dir, sorted_dir):\n",
        "    for subdir, dirs, files in os.walk(root_dir):\n",
        "        for file in files:\n",
        "            if file.endswith(\".xml\"):\n",
        "                xml_path = os.path.join(subdir, file)\n",
        "                image_path = os.path.splitext(xml_path)[0] + \".jpg\"  \n",
        "                if os.path.exists(image_path):\n",
        "                    label = parse_xml(xml_path)\n",
        "                    if label:\n",
        "                        label_dir = os.path.join(sorted_dir, label)\n",
        "                        if \"test\" in subdir:\n",
        "                            dest_dir = os.path.join(test_dataset_dir, label)\n",
        "                        elif \"train\" in subdir:\n",
        "                            dest_dir = os.path.join(train_dataset_dir, label)\n",
        "                        elif \"valid\" in subdir:\n",
        "                            dest_dir = os.path.join(valid_dataset_dir, label)\n",
        "                        else:\n",
        "                            print(\"Unknown directory:\", subdir)\n",
        "                            continue\n",
        "                        os.makedirs(dest_dir, exist_ok=True)\n",
        "                        shutil.copy(xml_path, dest_dir)\n",
        "                        shutil.copy(image_path, dest_dir)\n",
        "\n",
        "organize_dataset(test_dataset_dir, sorted_dataset_dir)\n",
        "organize_dataset(train_dataset_dir, sorted_dataset_dir)\n",
        "organize_dataset(valid_dataset_dir, sorted_dataset_dir)\n"
      ]
    },
    {
      "cell_type": "code",
      "execution_count": null,
      "metadata": {
        "colab": {
          "base_uri": "https://localhost:8080/",
          "height": 17
        },
        "id": "Lm2ybJ28-OY2",
        "outputId": "f0b5c729-6c3f-40e0-efcb-a743a81c2660"
      },
      "outputs": [
        {
          "data": {
            "application/javascript": "\n    async function download(id, filename, size) {\n      if (!google.colab.kernel.accessAllowed) {\n        return;\n      }\n      const div = document.createElement('div');\n      const label = document.createElement('label');\n      label.textContent = `Downloading \"${filename}\": `;\n      div.appendChild(label);\n      const progress = document.createElement('progress');\n      progress.max = size;\n      div.appendChild(progress);\n      document.body.appendChild(div);\n\n      const buffers = [];\n      let downloaded = 0;\n\n      const channel = await google.colab.kernel.comms.open(id);\n      // Send a message to notify the kernel that we're ready.\n      channel.send({})\n\n      for await (const message of channel.messages) {\n        // Send a message to notify the kernel that we're ready.\n        channel.send({})\n        if (message.buffers) {\n          for (const buffer of message.buffers) {\n            buffers.push(buffer);\n            downloaded += buffer.byteLength;\n            progress.value = downloaded;\n          }\n        }\n      }\n      const blob = new Blob(buffers, {type: 'application/binary'});\n      const a = document.createElement('a');\n      a.href = window.URL.createObjectURL(blob);\n      a.download = filename;\n      div.appendChild(a);\n      a.click();\n      div.remove();\n    }\n  ",
            "text/plain": [
              "<IPython.core.display.Javascript object>"
            ]
          },
          "metadata": {},
          "output_type": "display_data"
        },
        {
          "data": {
            "application/javascript": "download(\"download_176ea432-227b-4948-ab3b-6b450d6265b8\", \"sorted_dataset.zip\", 102165981)",
            "text/plain": [
              "<IPython.core.display.Javascript object>"
            ]
          },
          "metadata": {},
          "output_type": "display_data"
        }
      ],
      "source": [
        "import shutil\n",
        "\n",
        "zip_file_path = \"/content/sorted_dataset.zip\"\n",
        "\n",
        "shutil.make_archive(\"/content/sorted_dataset\", 'zip', \"/content/sorted_dataset\")\n",
        "\n",
        "from google.colab import files\n",
        "files.download(zip_file_path)\n"
      ]
    },
    {
      "cell_type": "code",
      "execution_count": null,
      "metadata": {
        "colab": {
          "base_uri": "https://localhost:8080/"
        },
        "id": "jyULBExf-vPN",
        "outputId": "23afe848-dca4-4021-d109-0e08862062e4"
      },
      "outputs": [
        {
          "name": "stdout",
          "output_type": "stream",
          "text": [
            "Labels found in sorted directory:\n",
            "['Speed Limit 110', 'Speed Limit 30', 'Speed Limit 40', 'Speed Limit 70', 'Speed Limit 100', 'Speed Limit 20', 'Speed Limit 80', 'Speed Limit 120', 'Stop', 'Red Light', 'Speed Limit 90', 'Speed Limit 50', 'Green Light', 'Speed Limit 60', 'Speed Limit 10']\n",
            "Label: Speed Limit 110, Number of Images: 123, Number of XML Files: 123\n",
            "Label: Speed Limit 30, Number of Images: 438, Number of XML Files: 438\n",
            "Label: Speed Limit 40, Number of Images: 312, Number of XML Files: 312\n",
            "Label: Speed Limit 70, Number of Images: 419, Number of XML Files: 419\n",
            "Label: Speed Limit 100, Number of Images: 315, Number of XML Files: 315\n",
            "Label: Speed Limit 20, Number of Images: 363, Number of XML Files: 363\n",
            "Label: Speed Limit 80, Number of Images: 405, Number of XML Files: 405\n",
            "Label: Speed Limit 120, Number of Images: 311, Number of XML Files: 311\n",
            "Label: Stop, Number of Images: 405, Number of XML Files: 405\n",
            "Label: Red Light, Number of Images: 434, Number of XML Files: 434\n",
            "Label: Speed Limit 90, Number of Images: 206, Number of XML Files: 206\n",
            "Label: Speed Limit 50, Number of Images: 361, Number of XML Files: 361\n",
            "Label: Green Light, Number of Images: 457, Number of XML Files: 457\n",
            "Label: Speed Limit 60, Number of Images: 403, Number of XML Files: 403\n",
            "Label: Speed Limit 10, Number of Images: 13, Number of XML Files: 13\n"
          ]
        }
      ],
      "source": [
        "import os\n",
        "\n",
        "sorted_dataset_dir = \"/content/sorted_dataset\"\n",
        "\n",
        "label_subfolders = [folder for folder in os.listdir(sorted_dataset_dir) if os.path.isdir(os.path.join(sorted_dataset_dir, folder))]\n",
        "\n",
        "print(\"Labels found in sorted directory:\")\n",
        "print(label_subfolders)\n",
        "\n",
        "for label in label_subfolders:\n",
        "    label_dir = os.path.join(sorted_dataset_dir, label)\n",
        "    images = [file for file in os.listdir(label_dir) if file.endswith(\".jpg\")]\n",
        "    xml_files = [file for file in os.listdir(label_dir) if file.endswith(\".xml\")]\n",
        "    print(f\"Label: {label}, Number of Images: {len(images)}, Number of XML Files: {len(xml_files)}\")\n",
        "\n",
        "    for image_file in images:\n",
        "        xml_file = os.path.splitext(image_file)[0] + \".xml\"\n",
        "        if xml_file not in xml_files:\n",
        "            print(f\"Missing XML file for image: {image_file}\")\n",
        "    for xml_file in xml_files:\n",
        "        image_file = os.path.splitext(xml_file)[0] + \".jpg\"\n",
        "        if image_file not in images:\n",
        "            print(f\"Missing image file for XML: {xml_file}\")\n"
      ]
    }
  ],
  "metadata": {
    "colab": {
      "provenance": []
    },
    "kernelspec": {
      "display_name": "Python 3",
      "name": "python3"
    },
    "language_info": {
      "name": "python"
    }
  },
  "nbformat": 4,
  "nbformat_minor": 0
}
