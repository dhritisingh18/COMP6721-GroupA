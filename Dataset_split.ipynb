{
  "nbformat": 4,
  "nbformat_minor": 0,
  "metadata": {
    "colab": {
      "provenance": []
    },
    "kernelspec": {
      "name": "python3",
      "display_name": "Python 3"
    },
    "language_info": {
      "name": "python"
    }
  },
  "cells": [
    {
      "cell_type": "code",
      "source": [
        "from google.colab import drive\n",
        "drive.mount('/content/drive')"
      ],
      "metadata": {
        "colab": {
          "base_uri": "https://localhost:8080/"
        },
        "id": "9UgdVBxsXnFU",
        "outputId": "1ca222f7-bf05-436f-8807-46a1832e4ab3"
      },
      "execution_count": 1,
      "outputs": [
        {
          "output_type": "stream",
          "name": "stdout",
          "text": [
            "Mounted at /content/drive\n"
          ]
        }
      ]
    },
    {
      "cell_type": "code",
      "source": [
        "!unzip \"/content/drive/My Drive/Test_Dataset\" -d \"/content/dataset\""
      ],
      "metadata": {
        "id": "bzsDx-aCVLPY"
      },
      "execution_count": null,
      "outputs": []
    },
    {
      "cell_type": "code",
      "source": [
        "import os\n",
        "import shutil\n",
        "from sklearn.model_selection import train_test_split"
      ],
      "metadata": {
        "id": "A4NwaHpBXIx-"
      },
      "execution_count": 3,
      "outputs": []
    },
    {
      "cell_type": "code",
      "source": [
        "base_dir = '/content/dataset/Test_Dataset'\n",
        "images_dir = os.path.join(base_dir, 'images')\n",
        "annotations_dir = os.path.join(base_dir, 'annotations')"
      ],
      "metadata": {
        "id": "e0p0cRSoaQQz"
      },
      "execution_count": 4,
      "outputs": []
    },
    {
      "cell_type": "code",
      "source": [
        "for split in ['train', 'test', 'val']:\n",
        "    os.makedirs(os.path.join(base_dir, split, 'images'), exist_ok=True)\n",
        "    os.makedirs(os.path.join(base_dir, split, 'annotations'), exist_ok=True)\n"
      ],
      "metadata": {
        "id": "m4VLG5X8cgBc"
      },
      "execution_count": 5,
      "outputs": []
    },
    {
      "cell_type": "code",
      "source": [
        "file_names = [os.path.splitext(f)[0] for f in os.listdir(images_dir) if os.path.isfile(os.path.join(images_dir, f))]"
      ],
      "metadata": {
        "id": "L6FW23Ljcndx"
      },
      "execution_count": 6,
      "outputs": []
    },
    {
      "cell_type": "code",
      "source": [
        "train_val, test = train_test_split(file_names, test_size=0.15, random_state=42)\n",
        "train, val = train_test_split(train_val, test_size=0.176, random_state=42)"
      ],
      "metadata": {
        "id": "iEbLfgCPcpXi"
      },
      "execution_count": 7,
      "outputs": []
    },
    {
      "cell_type": "code",
      "source": [
        "import glob\n",
        "image_extensions = ['.jpg', '.jpeg', '.png']\n",
        "def find_image_file(f):\n",
        "    for ext in image_extensions:\n",
        "        if os.path.exists(os.path.join(images_dir, f + ext)):\n",
        "            return f + ext\n",
        "    return None\n",
        "\n",
        "def copy_files(files, split):\n",
        "    not_found = []\n",
        "    for f in files:\n",
        "        image_file = find_image_file(f)\n",
        "        if image_file:\n",
        "            shutil.copy(os.path.join(images_dir, image_file), os.path.join(base_dir, split, 'images', image_file))\n",
        "            annotation_file = f + '.xml'\n",
        "            if os.path.exists(os.path.join(annotations_dir, annotation_file)):\n",
        "                shutil.copy(os.path.join(annotations_dir, annotation_file), os.path.join(base_dir, split, 'annotations', annotation_file))\n",
        "            else:\n",
        "                not_found.append(f + ' (annotation missing)')\n",
        "        else:\n",
        "            not_found.append(f + ' (image missing)')\n",
        "\n",
        "    if not_found:\n",
        "        print(f\"Files not found for {split}:\")\n",
        "        for item in not_found:\n",
        "            print(item)\n",
        "\n",
        "file_names = [os.path.splitext(os.path.basename(f))[0] for ext in image_extensions for f in glob.glob(os.path.join(images_dir, '*' + ext))]\n",
        "\n",
        "\n"
      ],
      "metadata": {
        "id": "4BJ38_UJctat"
      },
      "execution_count": 8,
      "outputs": []
    },
    {
      "cell_type": "code",
      "source": [
        "copy_files(train, 'train')\n",
        "copy_files(test, 'test')\n",
        "copy_files(val, 'val')"
      ],
      "metadata": {
        "id": "wX7bp7U0c0TH",
        "colab": {
          "base_uri": "https://localhost:8080/"
        },
        "outputId": "a948aa7f-cdc0-4de1-ba58-61cf469a470f"
      },
      "execution_count": 9,
      "outputs": [
        {
          "output_type": "stream",
          "name": "stdout",
          "text": [
            "Files not found for train:\n",
            ".DS_Store (image missing)\n"
          ]
        }
      ]
    },
    {
      "cell_type": "code",
      "source": [
        "!zip -r /content/dataset1.zip /content/dataset/Test_Dataset\n",
        "\n"
      ],
      "metadata": {
        "id": "f_o3sODBdjXP"
      },
      "execution_count": null,
      "outputs": []
    },
    {
      "cell_type": "code",
      "source": [
        "from google.colab import files\n",
        "files.download('/content/dataset1.zip')"
      ],
      "metadata": {
        "colab": {
          "base_uri": "https://localhost:8080/",
          "height": 17
        },
        "id": "xIFuSUqofQ7I",
        "outputId": "8f8fba8d-45d6-4785-8330-43247a218afe"
      },
      "execution_count": 13,
      "outputs": [
        {
          "output_type": "display_data",
          "data": {
            "text/plain": [
              "<IPython.core.display.Javascript object>"
            ],
            "application/javascript": [
              "\n",
              "    async function download(id, filename, size) {\n",
              "      if (!google.colab.kernel.accessAllowed) {\n",
              "        return;\n",
              "      }\n",
              "      const div = document.createElement('div');\n",
              "      const label = document.createElement('label');\n",
              "      label.textContent = `Downloading \"${filename}\": `;\n",
              "      div.appendChild(label);\n",
              "      const progress = document.createElement('progress');\n",
              "      progress.max = size;\n",
              "      div.appendChild(progress);\n",
              "      document.body.appendChild(div);\n",
              "\n",
              "      const buffers = [];\n",
              "      let downloaded = 0;\n",
              "\n",
              "      const channel = await google.colab.kernel.comms.open(id);\n",
              "      // Send a message to notify the kernel that we're ready.\n",
              "      channel.send({})\n",
              "\n",
              "      for await (const message of channel.messages) {\n",
              "        // Send a message to notify the kernel that we're ready.\n",
              "        channel.send({})\n",
              "        if (message.buffers) {\n",
              "          for (const buffer of message.buffers) {\n",
              "            buffers.push(buffer);\n",
              "            downloaded += buffer.byteLength;\n",
              "            progress.value = downloaded;\n",
              "          }\n",
              "        }\n",
              "      }\n",
              "      const blob = new Blob(buffers, {type: 'application/binary'});\n",
              "      const a = document.createElement('a');\n",
              "      a.href = window.URL.createObjectURL(blob);\n",
              "      a.download = filename;\n",
              "      div.appendChild(a);\n",
              "      a.click();\n",
              "      div.remove();\n",
              "    }\n",
              "  "
            ]
          },
          "metadata": {}
        },
        {
          "output_type": "display_data",
          "data": {
            "text/plain": [
              "<IPython.core.display.Javascript object>"
            ],
            "application/javascript": [
              "download(\"download_ed11699e-9816-4a61-9a64-101211ecf871\", \"dataset1.zip\", 97486464)"
            ]
          },
          "metadata": {}
        }
      ]
    }
  ]
}